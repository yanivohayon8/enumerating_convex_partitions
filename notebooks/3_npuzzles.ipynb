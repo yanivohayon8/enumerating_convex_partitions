{
 "cells": [
  {
   "cell_type": "code",
   "execution_count": 1,
   "metadata": {},
   "outputs": [],
   "source": [
    "import sys\n",
    "import os\n",
    "\n",
    "# from src.puzzle_creators import Direction\n",
    "\n",
    "SCRIPT_DIR = os.path.dirname(os.path.abspath(os.getcwd()+\"/notebooks\"))\n",
    "sys.path.append(os.path.dirname(SCRIPT_DIR))"
   ]
  },
  {
   "cell_type": "code",
   "execution_count": 3,
   "metadata": {},
   "outputs": [],
   "source": [
    "import pandas as pd \n",
    "import matplotlib.pyplot as plt\n",
    "import glob\n",
    "import os\n",
    "from functools import reduce\n",
    "from pathlib import Path\n",
    "from notebooks.notebooks_utils import n_convex_hull,n_interior_points"
   ]
  },
  {
   "cell_type": "code",
   "execution_count": 9,
   "metadata": {},
   "outputs": [
    {
     "name": "stdout",
     "output_type": "stream",
     "text": [
      "['C:\\\\Users\\\\yaniv\\\\Desktop\\\\MSCBenGurion\\\\iCVL\\\\rgons\\\\data\\\\puzzles\\\\convex_hull-5-int-0-107', 'C:\\\\Users\\\\yaniv\\\\Desktop\\\\MSCBenGurion\\\\iCVL\\\\rgons\\\\data\\\\puzzles\\\\convex_hull-5-int-0-1826', 'C:\\\\Users\\\\yaniv\\\\Desktop\\\\MSCBenGurion\\\\iCVL\\\\rgons\\\\data\\\\puzzles\\\\convex_hull-5-int-0-2039', 'C:\\\\Users\\\\yaniv\\\\Desktop\\\\MSCBenGurion\\\\iCVL\\\\rgons\\\\data\\\\puzzles\\\\convex_hull-5-int-0-3371', 'C:\\\\Users\\\\yaniv\\\\Desktop\\\\MSCBenGurion\\\\iCVL\\\\rgons\\\\data\\\\puzzles\\\\convex_hull-5-int-0-367']\n",
      "number of samples is 95\n"
     ]
    }
   ],
   "source": [
    "samples_path = os.path.join(Path().resolve().parent,\"data\",\"puzzles\")\n",
    "samples = list(filter(lambda exa: \"frame-\" not in exa ,\n",
    "                 [ex for ex in glob.glob(f\"{samples_path}/*\")]))\n",
    "samples = sorted(samples,key=lambda ex: n_convex_hull(ex)+n_interior_points(ex)*1.01)\n",
    "print(samples[:5])\n",
    "print(\"number of samples is \" +str(len(samples)))"
   ]
  },
  {
   "cell_type": "code",
   "execution_count": 10,
   "metadata": {},
   "outputs": [
    {
     "name": "stdout",
     "output_type": "stream",
     "text": [
      "   polygon_3  polygon_4  polygon_5  polygon_6            name  \\\n",
      "0        3.0        0.0        0.0        0.0  1-9_1-3_s_.csv   \n",
      "1        3.0        0.0        0.0        0.0    1-9_2-3_.csv   \n",
      "2        1.0        1.0        0.0        0.0    1-9_3-3_.csv   \n",
      "3        1.0        1.0        0.0        0.0      2-9_s_.csv   \n",
      "4        0.0        0.0        1.0        0.0        3-9_.csv   \n",
      "\n",
      "                    sample  n_convex_hull  n_interior  \n",
      "0  convex_hull-5-int-0-107              5           0  \n",
      "1  convex_hull-5-int-0-107              5           0  \n",
      "2  convex_hull-5-int-0-107              5           0  \n",
      "3  convex_hull-5-int-0-107              5           0  \n",
      "4  convex_hull-5-int-0-107              5           0  \n",
      "35205\n"
     ]
    }
   ],
   "source": [
    "counts = []\n",
    "samples_names = []\n",
    "puzzles_names = []\n",
    "dfs = []\n",
    "for sample_dir in samples:\n",
    "    for puzzle_csv in glob.glob(f\"{sample_dir}/results/*.csv\"):\n",
    "        samples_names.append(sample_dir.split(\"\\\\\")[-1])\n",
    "        puzzles_names.append(puzzle_csv.split(\"\\\\\")[-1])\n",
    "        df_puzzle_polygons = pd.read_csv(puzzle_csv,index_col=False)\n",
    "        df_puzzle_polygons = df_puzzle_polygons.groupby(\"id\").size().reset_index(name=\"polygon_type\")\n",
    "        # print(df_puzzle_polygons.head(20))\n",
    "        # print(df_puzzle_polygons.columns)\n",
    "        df = pd.DataFrame(df_puzzle_polygons.value_counts([\"polygon_type\"])).reset_index()\n",
    "        df.columns = [\"polygon_type\",\"count\"]\n",
    "        # print(df.head())\n",
    "        # print(df.columns)\n",
    "        df = df.set_index(\"polygon_type\")\n",
    "        df = df.T#.reset_index(drop=True)\n",
    "        df.columns = [f\"polygon_{col}\" for col in df.columns]\n",
    "        df = df.reset_index(drop=True)\n",
    "        dfs.append(df)\n",
    "        # print(df.head())\n",
    "        # print(df.columns)\n",
    "        \n",
    "all_puzzles = pd.concat(dfs).fillna(0)\n",
    "all_puzzles[\"name\"] = puzzles_names\n",
    "all_puzzles[\"sample\"] = samples_names\n",
    "all_puzzles[\"n_convex_hull\"] = all_puzzles[\"sample\"].transform(n_convex_hull)\n",
    "all_puzzles[\"n_interior\"]  = all_puzzles[\"sample\"].transform(n_interior_points)\n",
    "all_puzzles = all_puzzles.reset_index(drop=True)\n",
    "# cols = list(all_puzzles.columns)\n",
    "# all_puzzles = all_puzzles[cols[-4:]+cols[:-4]]\n",
    "print(all_puzzles.head(5))\n",
    "print(len(all_puzzles))"
   ]
  },
  {
   "cell_type": "code",
   "execution_count": 11,
   "metadata": {},
   "outputs": [
    {
     "name": "stdout",
     "output_type": "stream",
     "text": [
      "    n_convex_hull  n_interior  n_samples\n",
      "0               3           2          7\n",
      "1               3           3          1\n",
      "2               4           1         24\n",
      "3               4           2          2\n",
      "4               4           3          2\n",
      "5               4           4          1\n",
      "6               4           5          2\n",
      "7               5           0         19\n",
      "8               5           1          6\n",
      "9               5           2          7\n",
      "10              5           3          3\n",
      "11              5           4          2\n",
      "12              6           0          1\n",
      "13              6           1          1\n",
      "14              6           2          6\n",
      "15              6           3          3\n",
      "16              7           2          2\n",
      "17              8           1          1\n",
      "18           2000           8          1\n",
      "19           2000          12          1\n",
      "20           2000          15          1\n",
      "21          10000          16          1\n",
      "    n_convex_hull  n_interior  mean_n_puzzles\n",
      "0               3           2        3.000000\n",
      "1               3           3       27.000000\n",
      "2               4           1        5.000000\n",
      "3               4           2       17.000000\n",
      "4               4           3       71.000000\n",
      "5               4           4      195.000000\n",
      "6               4           5     1291.000000\n",
      "7               5           0       11.000000\n",
      "8               5           1       23.666667\n",
      "9               5           2       98.571429\n",
      "10              5           3      533.000000\n",
      "11              5           4     2363.000000\n",
      "12              6           0       43.000000\n",
      "13              6           1      105.000000\n",
      "14              6           2      540.666667\n",
      "15              6           3     2681.333333\n",
      "16              7           2     3384.000000\n",
      "17              8           1     3253.000000\n",
      "18           2000           8       16.000000\n",
      "19           2000          12       14.000000\n",
      "20           2000          15       42.000000\n",
      "21          10000          16     3189.000000\n",
      "    n_convex_hull  n_interior  std_n_puzzles\n",
      "0               3           2       0.000000\n",
      "1               3           3            NaN\n",
      "2               4           1       0.000000\n",
      "3               4           2       0.000000\n",
      "4               4           3       5.656854\n",
      "5               4           4            NaN\n",
      "6               4           5     551.543289\n",
      "7               5           0       0.000000\n",
      "8               5           1       1.632993\n",
      "9               5           2      24.575443\n",
      "10              5           3     355.595276\n",
      "11              5           4    2008.183259\n",
      "12              6           0            NaN\n",
      "13              6           1            NaN\n",
      "14              6           2     151.099526\n",
      "15              6           3    1473.679861\n",
      "16              7           2     287.085353\n",
      "17              8           1            NaN\n",
      "18           2000           8            NaN\n",
      "19           2000          12            NaN\n",
      "20           2000          15            NaN\n",
      "21          10000          16            NaN\n"
     ]
    }
   ],
   "source": [
    "df_samples = all_puzzles[[\"sample\",\"n_convex_hull\",\"n_interior\"]].groupby([\"sample\",\"n_convex_hull\",\"n_interior\"]).size().reset_index(name=\"n_puzzles\")\n",
    "df_samples.head(10)\n",
    "print(df_samples.groupby([\"n_convex_hull\",\"n_interior\"])[\"n_puzzles\"].size().reset_index(name=\"n_samples\"))\n"
   ]
  },
  {
   "cell_type": "code",
   "execution_count": 13,
   "metadata": {},
   "outputs": [
    {
     "name": "stdout",
     "output_type": "stream",
     "text": [
      "    n_convex_hull  n_interior  mean_n_puzzles\n",
      "0               3           2        3.000000\n",
      "1               3           3       27.000000\n",
      "2               4           1        5.000000\n",
      "3               4           2       17.000000\n",
      "4               4           3       71.000000\n",
      "5               4           4      195.000000\n",
      "6               4           5     1291.000000\n",
      "7               5           0       11.000000\n",
      "8               5           1       23.666667\n",
      "9               5           2       98.571429\n",
      "10              5           3      533.000000\n",
      "11              5           4     2363.000000\n",
      "12              6           0       43.000000\n",
      "13              6           1      105.000000\n",
      "14              6           2      540.666667\n",
      "15              6           3     2681.333333\n",
      "16              7           2     3384.000000\n",
      "17              8           1     3253.000000\n",
      "18           2000           8       16.000000\n",
      "19           2000          12       14.000000\n",
      "20           2000          15       42.000000\n",
      "21          10000          16     3189.000000\n"
     ]
    }
   ],
   "source": [
    "print(df_samples.groupby([\"n_convex_hull\",\"n_interior\"])[\"n_puzzles\"].mean().reset_index(name=\"mean_n_puzzles\"))\n"
   ]
  },
  {
   "cell_type": "code",
   "execution_count": 12,
   "metadata": {},
   "outputs": [
    {
     "name": "stdout",
     "output_type": "stream",
     "text": [
      "    n_convex_hull  n_interior  std_n_puzzles\n",
      "0               3           2       0.000000\n",
      "1               3           3            NaN\n",
      "2               4           1       0.000000\n",
      "3               4           2       0.000000\n",
      "4               4           3       5.656854\n",
      "5               4           4            NaN\n",
      "6               4           5     551.543289\n",
      "7               5           0       0.000000\n",
      "8               5           1       1.632993\n",
      "9               5           2      24.575443\n",
      "10              5           3     355.595276\n",
      "11              5           4    2008.183259\n",
      "12              6           0            NaN\n",
      "13              6           1            NaN\n",
      "14              6           2     151.099526\n",
      "15              6           3    1473.679861\n",
      "16              7           2     287.085353\n",
      "17              8           1            NaN\n",
      "18           2000           8            NaN\n",
      "19           2000          12            NaN\n",
      "20           2000          15            NaN\n",
      "21          10000          16            NaN\n"
     ]
    }
   ],
   "source": [
    "print(df_samples.groupby([\"n_convex_hull\",\"n_interior\"])[\"n_puzzles\"].std().reset_index(name=\"std_n_puzzles\"))"
   ]
  },
  {
   "cell_type": "code",
   "execution_count": null,
   "metadata": {},
   "outputs": [],
   "source": []
  }
 ],
 "metadata": {
  "kernelspec": {
   "display_name": "Python 3.7.0 ('.venv': venv)",
   "language": "python",
   "name": "python3"
  },
  "language_info": {
   "codemirror_mode": {
    "name": "ipython",
    "version": 3
   },
   "file_extension": ".py",
   "mimetype": "text/x-python",
   "name": "python",
   "nbconvert_exporter": "python",
   "pygments_lexer": "ipython3",
   "version": "3.9.1"
  },
  "orig_nbformat": 4,
  "vscode": {
   "interpreter": {
    "hash": "e68634607eda34f49278e58a2a01c39877cf05dc864956f04498852e14ed5133"
   }
  }
 },
 "nbformat": 4,
 "nbformat_minor": 2
}
