{
 "cells": [
  {
   "cell_type": "code",
   "execution_count": 1,
   "metadata": {},
   "outputs": [],
   "source": [
    "import sys\n",
    "import os\n",
    "\n",
    "# from src.puzzle_creators import Direction\n",
    "\n",
    "SCRIPT_DIR = os.path.dirname(os.path.abspath(os.getcwd()+\"/notebooks\"))\n",
    "sys.path.append(os.path.dirname(SCRIPT_DIR))"
   ]
  },
  {
   "cell_type": "code",
   "execution_count": 2,
   "metadata": {},
   "outputs": [],
   "source": [
    "import pandas as pd \n",
    "import matplotlib.pyplot as plt\n",
    "import numpy as np\n",
    "import glob\n",
    "import os\n",
    "from functools import reduce\n",
    "from pathlib import Path\n",
    "from notebooks.notebooks_utils import n_convex_hull,n_interior_points,vertecies_degree"
   ]
  },
  {
   "cell_type": "code",
   "execution_count": 3,
   "metadata": {},
   "outputs": [
    {
     "name": "stdout",
     "output_type": "stream",
     "text": [
      "['C:\\\\Users\\\\yaniv\\\\Desktop\\\\MSCBenGurion\\\\iCVL\\\\rgons\\\\data\\\\puzzles\\\\convex_hull-5-int-0-107', 'C:\\\\Users\\\\yaniv\\\\Desktop\\\\MSCBenGurion\\\\iCVL\\\\rgons\\\\data\\\\puzzles\\\\convex_hull-5-int-0-1826', 'C:\\\\Users\\\\yaniv\\\\Desktop\\\\MSCBenGurion\\\\iCVL\\\\rgons\\\\data\\\\puzzles\\\\convex_hull-5-int-0-2039', 'C:\\\\Users\\\\yaniv\\\\Desktop\\\\MSCBenGurion\\\\iCVL\\\\rgons\\\\data\\\\puzzles\\\\convex_hull-5-int-0-3371', 'C:\\\\Users\\\\yaniv\\\\Desktop\\\\MSCBenGurion\\\\iCVL\\\\rgons\\\\data\\\\puzzles\\\\convex_hull-5-int-0-367']\n",
      "number of samples is 95\n"
     ]
    }
   ],
   "source": [
    "samples_path = os.path.join(Path().resolve().parent,\"data\",\"puzzles\")\n",
    "samples = list(filter(lambda exa: \"frame-\" not in exa ,\n",
    "                 [ex for ex in glob.glob(f\"{samples_path}/*\")]))\n",
    "samples = sorted(samples,key=lambda ex: n_convex_hull(ex)+n_interior_points(ex)*1.01)\n",
    "print(samples[:5])\n",
    "print(\"number of samples is \" +str(len(samples)))"
   ]
  },
  {
   "cell_type": "code",
   "execution_count": 4,
   "metadata": {},
   "outputs": [],
   "source": [
    "xs = []\n",
    "ys = []\n",
    "degrees = []\n",
    "puzzles = []\n",
    "samples_names = []\n",
    "\n",
    "for sample_dir in samples:\n",
    "    sample_name = sample_dir.split(\"\\\\\")[-1]\n",
    "    puzzles_csvs = glob.glob(sample_dir+\"\\\\degree\\\\*.csv\")\n",
    "    for puzzle_csv in puzzles_csvs:\n",
    "        df_deg = pd.read_csv(puzzle_csv)\n",
    "        xs = xs + df_deg.x.values.tolist()\n",
    "        ys = ys + df_deg.y.values.tolist()\n",
    "        degrees = degrees + df_deg.degree.values.tolist()\n",
    "        puzzles = puzzles + [puzzle_csv.split(\"\\\\\")[-1]]*len(df_deg)\n",
    "        samples_names = samples_names + [sample_name] * len(df_deg)\n",
    "# print(xs)     \n",
    "# print(ys)\n",
    "# print(degrees)\n",
    "# print(puzzles)\n",
    "# print(samples_names)\n",
    "df_dots = pd.DataFrame(\n",
    "    {\n",
    "        \"xs\":xs,\n",
    "        \"ys\":ys,\n",
    "        \"degree\":degrees,\n",
    "        \"puzzle\":puzzles,\n",
    "        \"samples\":samples_names\n",
    "    }\n",
    ")\n",
    "        "
   ]
  },
  {
   "cell_type": "code",
   "execution_count": 22,
   "metadata": {},
   "outputs": [
    {
     "data": {
      "text/html": [
       "<div>\n",
       "<style scoped>\n",
       "    .dataframe tbody tr th:only-of-type {\n",
       "        vertical-align: middle;\n",
       "    }\n",
       "\n",
       "    .dataframe tbody tr th {\n",
       "        vertical-align: top;\n",
       "    }\n",
       "\n",
       "    .dataframe thead th {\n",
       "        text-align: right;\n",
       "    }\n",
       "</style>\n",
       "<table border=\"1\" class=\"dataframe\">\n",
       "  <thead>\n",
       "    <tr style=\"text-align: right;\">\n",
       "      <th></th>\n",
       "      <th>xs</th>\n",
       "      <th>ys</th>\n",
       "      <th>degree</th>\n",
       "      <th>puzzle</th>\n",
       "      <th>samples</th>\n",
       "      <th>n_convex_hull</th>\n",
       "      <th>n_interior</th>\n",
       "    </tr>\n",
       "  </thead>\n",
       "  <tbody>\n",
       "    <tr>\n",
       "      <th>0</th>\n",
       "      <td>2.135124</td>\n",
       "      <td>28.678857</td>\n",
       "      <td>2.0</td>\n",
       "      <td>1-9_1-3_s_.csv</td>\n",
       "      <td>convex_hull-5-int-0-107</td>\n",
       "      <td>5</td>\n",
       "      <td>0</td>\n",
       "    </tr>\n",
       "    <tr>\n",
       "      <th>1</th>\n",
       "      <td>2.639407</td>\n",
       "      <td>64.700860</td>\n",
       "      <td>3.0</td>\n",
       "      <td>1-9_1-3_s_.csv</td>\n",
       "      <td>convex_hull-5-int-0-107</td>\n",
       "      <td>5</td>\n",
       "      <td>0</td>\n",
       "    </tr>\n",
       "    <tr>\n",
       "      <th>2</th>\n",
       "      <td>51.762359</td>\n",
       "      <td>56.459154</td>\n",
       "      <td>4.0</td>\n",
       "      <td>1-9_1-3_s_.csv</td>\n",
       "      <td>convex_hull-5-int-0-107</td>\n",
       "      <td>5</td>\n",
       "      <td>0</td>\n",
       "    </tr>\n",
       "    <tr>\n",
       "      <th>3</th>\n",
       "      <td>72.396845</td>\n",
       "      <td>89.609267</td>\n",
       "      <td>3.0</td>\n",
       "      <td>1-9_1-3_s_.csv</td>\n",
       "      <td>convex_hull-5-int-0-107</td>\n",
       "      <td>5</td>\n",
       "      <td>0</td>\n",
       "    </tr>\n",
       "    <tr>\n",
       "      <th>4</th>\n",
       "      <td>73.506244</td>\n",
       "      <td>78.583912</td>\n",
       "      <td>2.0</td>\n",
       "      <td>1-9_1-3_s_.csv</td>\n",
       "      <td>convex_hull-5-int-0-107</td>\n",
       "      <td>5</td>\n",
       "      <td>0</td>\n",
       "    </tr>\n",
       "  </tbody>\n",
       "</table>\n",
       "</div>"
      ],
      "text/plain": [
       "          xs         ys  degree          puzzle                  samples  \\\n",
       "0   2.135124  28.678857     2.0  1-9_1-3_s_.csv  convex_hull-5-int-0-107   \n",
       "1   2.639407  64.700860     3.0  1-9_1-3_s_.csv  convex_hull-5-int-0-107   \n",
       "2  51.762359  56.459154     4.0  1-9_1-3_s_.csv  convex_hull-5-int-0-107   \n",
       "3  72.396845  89.609267     3.0  1-9_1-3_s_.csv  convex_hull-5-int-0-107   \n",
       "4  73.506244  78.583912     2.0  1-9_1-3_s_.csv  convex_hull-5-int-0-107   \n",
       "\n",
       "   n_convex_hull  n_interior  \n",
       "0              5           0  \n",
       "1              5           0  \n",
       "2              5           0  \n",
       "3              5           0  \n",
       "4              5           0  "
      ]
     },
     "execution_count": 22,
     "metadata": {},
     "output_type": "execute_result"
    }
   ],
   "source": [
    "'''Save the df_dots to file? '''\n",
    "# sorry about the abs path\n",
    "df_dots[\"n_convex_hull\"] = df_dots[\"samples\"].transform(n_convex_hull)\n",
    "df_dots[\"n_interior\"] = df_dots[\"samples\"].transform(n_interior_points)\n",
    "df_dots.head()\n",
    "#df_dots.to_csv(\"C:\\\\Users\\\\yaniv\\\\Desktop\\\\MSCBenGurion\\\\iCVL\\\\rgons\\\\data\\\\notebooks\\\\6_process_degree\\\\250722_deg.csv\",index=False)"
   ]
  },
  {
   "cell_type": "code",
   "execution_count": 20,
   "metadata": {},
   "outputs": [
    {
     "data": {
      "text/html": [
       "<div>\n",
       "<style scoped>\n",
       "    .dataframe tbody tr th:only-of-type {\n",
       "        vertical-align: middle;\n",
       "    }\n",
       "\n",
       "    .dataframe tbody tr th {\n",
       "        vertical-align: top;\n",
       "    }\n",
       "\n",
       "    .dataframe thead tr th {\n",
       "        text-align: left;\n",
       "    }\n",
       "\n",
       "    .dataframe thead tr:last-of-type th {\n",
       "        text-align: right;\n",
       "    }\n",
       "</style>\n",
       "<table border=\"1\" class=\"dataframe\">\n",
       "  <thead>\n",
       "    <tr>\n",
       "      <th></th>\n",
       "      <th></th>\n",
       "      <th colspan=\"2\" halign=\"left\">degree</th>\n",
       "    </tr>\n",
       "    <tr>\n",
       "      <th></th>\n",
       "      <th></th>\n",
       "      <th>mean</th>\n",
       "      <th>std</th>\n",
       "    </tr>\n",
       "    <tr>\n",
       "      <th>xs</th>\n",
       "      <th>ys</th>\n",
       "      <th></th>\n",
       "      <th></th>\n",
       "    </tr>\n",
       "  </thead>\n",
       "  <tbody>\n",
       "    <tr>\n",
       "      <th>4.473788</th>\n",
       "      <th>22.259816</th>\n",
       "      <td>2.545455</td>\n",
       "      <td>0.687552</td>\n",
       "    </tr>\n",
       "    <tr>\n",
       "      <th>15.931913</th>\n",
       "      <th>31.898026</th>\n",
       "      <td>2.545455</td>\n",
       "      <td>0.687552</td>\n",
       "    </tr>\n",
       "    <tr>\n",
       "      <th>57.910607</th>\n",
       "      <th>12.923884</th>\n",
       "      <td>2.545455</td>\n",
       "      <td>0.687552</td>\n",
       "    </tr>\n",
       "    <tr>\n",
       "      <th>84.827099</th>\n",
       "      <th>35.935504</th>\n",
       "      <td>2.545455</td>\n",
       "      <td>0.687552</td>\n",
       "    </tr>\n",
       "    <tr>\n",
       "      <th>97.815770</th>\n",
       "      <th>17.588246</th>\n",
       "      <td>2.545455</td>\n",
       "      <td>0.687552</td>\n",
       "    </tr>\n",
       "  </tbody>\n",
       "</table>\n",
       "</div>"
      ],
      "text/plain": [
       "                       degree          \n",
       "                         mean       std\n",
       "xs        ys                           \n",
       "4.473788  22.259816  2.545455  0.687552\n",
       "15.931913 31.898026  2.545455  0.687552\n",
       "57.910607 12.923884  2.545455  0.687552\n",
       "84.827099 35.935504  2.545455  0.687552\n",
       "97.815770 17.588246  2.545455  0.687552"
      ]
     },
     "execution_count": 20,
     "metadata": {},
     "output_type": "execute_result"
    }
   ],
   "source": [
    "sample_name = \"convex_hull-5-int-0-367\"\n",
    "df_dots[df_dots[\"samples\"]==sample_name].groupby([\"xs\",\"ys\"]).aggregate({\"degree\":[\"mean\",\"std\"]})\n"
   ]
  },
  {
   "cell_type": "code",
   "execution_count": null,
   "metadata": {},
   "outputs": [],
   "source": [
    "''' by the configuration'''"
   ]
  },
  {
   "cell_type": "markdown",
   "metadata": {},
   "source": []
  }
 ],
 "metadata": {
  "kernelspec": {
   "display_name": "Python 3.7.0 ('.venv': venv)",
   "language": "python",
   "name": "python3"
  },
  "language_info": {
   "codemirror_mode": {
    "name": "ipython",
    "version": 3
   },
   "file_extension": ".py",
   "mimetype": "text/x-python",
   "name": "python",
   "nbconvert_exporter": "python",
   "pygments_lexer": "ipython3",
   "version": "3.9.1"
  },
  "orig_nbformat": 4,
  "vscode": {
   "interpreter": {
    "hash": "e68634607eda34f49278e58a2a01c39877cf05dc864956f04498852e14ed5133"
   }
  }
 },
 "nbformat": 4,
 "nbformat_minor": 2
}
