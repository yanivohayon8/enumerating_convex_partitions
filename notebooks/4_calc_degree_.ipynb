{
 "cells": [
  {
   "cell_type": "code",
   "execution_count": 1,
   "metadata": {},
   "outputs": [],
   "source": [
    "import sys\n",
    "import os\n",
    "\n",
    "# from src.puzzle_creators import Direction\n",
    "\n",
    "SCRIPT_DIR = os.path.dirname(os.path.abspath(os.getcwd()+\"/notebooks\"))\n",
    "sys.path.append(os.path.dirname(SCRIPT_DIR))"
   ]
  },
  {
   "cell_type": "code",
   "execution_count": 2,
   "metadata": {},
   "outputs": [],
   "source": [
    "import pandas as pd \n",
    "import matplotlib.pyplot as plt\n",
    "import numpy as np\n",
    "import glob\n",
    "import os\n",
    "from functools import reduce\n",
    "from pathlib import Path\n",
    "from notebooks.notebooks_utils import n_convex_hull,n_interior_points,vertecies_degree"
   ]
  },
  {
   "cell_type": "code",
   "execution_count": 3,
   "metadata": {},
   "outputs": [
    {
     "name": "stdout",
     "output_type": "stream",
     "text": [
      "['C:\\\\Users\\\\yaniv\\\\Desktop\\\\MSCBenGurion\\\\iCVL\\\\rgons\\\\data\\\\puzzles\\\\convex_hull-5-int-0-107', 'C:\\\\Users\\\\yaniv\\\\Desktop\\\\MSCBenGurion\\\\iCVL\\\\rgons\\\\data\\\\puzzles\\\\convex_hull-5-int-0-1826', 'C:\\\\Users\\\\yaniv\\\\Desktop\\\\MSCBenGurion\\\\iCVL\\\\rgons\\\\data\\\\puzzles\\\\convex_hull-5-int-0-2039', 'C:\\\\Users\\\\yaniv\\\\Desktop\\\\MSCBenGurion\\\\iCVL\\\\rgons\\\\data\\\\puzzles\\\\convex_hull-5-int-0-3371', 'C:\\\\Users\\\\yaniv\\\\Desktop\\\\MSCBenGurion\\\\iCVL\\\\rgons\\\\data\\\\puzzles\\\\convex_hull-5-int-0-367']\n",
      "number of samples is 95\n"
     ]
    }
   ],
   "source": [
    "samples_path = os.path.join(Path().resolve().parent,\"data\",\"puzzles\")\n",
    "samples = list(filter(lambda exa: \"frame-\" not in exa ,\n",
    "                 [ex for ex in glob.glob(f\"{samples_path}/*\")]))\n",
    "samples = sorted(samples,key=lambda ex: n_convex_hull(ex)+n_interior_points(ex)*1.01)\n",
    "print(samples[:5])\n",
    "print(\"number of samples is \" +str(len(samples)))"
   ]
  },
  {
   "cell_type": "code",
   "execution_count": 4,
   "metadata": {},
   "outputs": [
    {
     "data": {
      "text/html": [
       "<div>\n",
       "<style scoped>\n",
       "    .dataframe tbody tr th:only-of-type {\n",
       "        vertical-align: middle;\n",
       "    }\n",
       "\n",
       "    .dataframe tbody tr th {\n",
       "        vertical-align: top;\n",
       "    }\n",
       "\n",
       "    .dataframe thead th {\n",
       "        text-align: right;\n",
       "    }\n",
       "</style>\n",
       "<table border=\"1\" class=\"dataframe\">\n",
       "  <thead>\n",
       "    <tr style=\"text-align: right;\">\n",
       "      <th></th>\n",
       "      <th>x</th>\n",
       "      <th>y</th>\n",
       "      <th>degree</th>\n",
       "    </tr>\n",
       "  </thead>\n",
       "  <tbody>\n",
       "    <tr>\n",
       "      <th>0</th>\n",
       "      <td>2.135124</td>\n",
       "      <td>28.678857</td>\n",
       "      <td>2.0</td>\n",
       "    </tr>\n",
       "    <tr>\n",
       "      <th>1</th>\n",
       "      <td>2.639407</td>\n",
       "      <td>64.700860</td>\n",
       "      <td>3.0</td>\n",
       "    </tr>\n",
       "    <tr>\n",
       "      <th>2</th>\n",
       "      <td>51.762359</td>\n",
       "      <td>56.459154</td>\n",
       "      <td>4.0</td>\n",
       "    </tr>\n",
       "    <tr>\n",
       "      <th>3</th>\n",
       "      <td>72.396845</td>\n",
       "      <td>89.609267</td>\n",
       "      <td>3.0</td>\n",
       "    </tr>\n",
       "    <tr>\n",
       "      <th>4</th>\n",
       "      <td>73.506244</td>\n",
       "      <td>78.583912</td>\n",
       "      <td>2.0</td>\n",
       "    </tr>\n",
       "  </tbody>\n",
       "</table>\n",
       "</div>"
      ],
      "text/plain": [
       "           x          y  degree\n",
       "0   2.135124  28.678857     2.0\n",
       "1   2.639407  64.700860     3.0\n",
       "2  51.762359  56.459154     4.0\n",
       "3  72.396845  89.609267     3.0\n",
       "4  73.506244  78.583912     2.0"
      ]
     },
     "execution_count": 4,
     "metadata": {},
     "output_type": "execute_result"
    }
   ],
   "source": [
    "df_puzzle_polygons = pd.read_csv(glob.glob(f\"{samples[0]}/results/*.csv\")[0])#,index_col=False)\n",
    "vertecies_degree(df_puzzle_polygons).head()"
   ]
  },
  {
   "cell_type": "code",
   "execution_count": 14,
   "metadata": {},
   "outputs": [
    {
     "name": "stdout",
     "output_type": "stream",
     "text": [
      "start_sample_index:81 end_sample_index:96\n",
      "Start scan puzzles of sample convex_hull-7-int-2-6465 (index - 81)\n",
      "Start scan puzzles of sample convex_hull-7-int-2-6545 (index - 82)\n",
      "Start scan puzzles of sample convex_hull-6-int-3-2632 (index - 83)\n",
      "Start scan puzzles of sample convex_hull-6-int-3-366 (index - 84)\n",
      "Start scan puzzles of sample convex_hull-6-int-3-834 (index - 85)\n",
      "Start scan puzzles of sample convex_hull-5-int-4-6523 (index - 86)\n",
      "Start scan puzzles of sample convex_hull-5-int-4-9148 (index - 87)\n",
      "Start scan puzzles of sample convex_hull-4-int-5-5185 (index - 88)\n",
      "Start scan puzzles of sample convex_hull-4-int-5-90 (index - 89)\n",
      "Start scan puzzles of sample sample_range-2000-convex_hull-7-int-8-9562 (index - 90)\n",
      "Start scan puzzles of sample sample_range-2000-convex_hull-8-int-12-4364 (index - 91)\n",
      "Start scan puzzles of sample sample_range-2000-convex_hull-5-int-15-693 (index - 92)\n",
      "Start scan puzzles of sample sample_range-10000-convex_hull-9-int-16-6893 (index - 93)\n",
      "Start scan puzzles of sample sample_range-10000-convex_hull-9-int-21-8072 (index - 94)\n"
     ]
    }
   ],
   "source": [
    "'''This should run only once (per puzzle)'''\n",
    "# '''Calculating the degrees for the puzzles of each sample by controlled batches'''\n",
    "# start_sample_index = 81\n",
    "# end_sample_index = 96\n",
    "# print(f\"start_sample_index:{start_sample_index} end_sample_index:{end_sample_index}\")\n",
    "# for sample_index,sample in enumerate(samples[start_sample_index:end_sample_index]):\n",
    "#     name = sample.split(\"\\\\\")[-1]\n",
    "#     print(f\"Start scan puzzles of sample {name} (index - {start_sample_index+sample_index})\")\n",
    "#     degree_dir = sample + \"\\\\degree\" #\"\\\\\".join(sample.split(\"\\\\\")[:-1] + [\"degree\"])\n",
    "#     os.makedirs(degree_dir)\n",
    "#     puzzles_paths = glob.glob(f\"{sample}/results/*.csv\")\n",
    "#     for puzzle_path in puzzles_paths:\n",
    "#         df_puzzle_polygons = pd.read_csv(puzzle_path)\n",
    "#         df_degree = vertecies_degree(df_puzzle_polygons)\n",
    "#         puzzle_name = puzzle_path.split(\"\\\\\")[-1]\n",
    "#         df_degree.to_csv(degree_dir + \"\\\\\" + puzzle_name,index=False)\n"
   ]
  },
  {
   "cell_type": "code",
   "execution_count": 11,
   "metadata": {},
   "outputs": [
    {
     "name": "stdout",
     "output_type": "stream",
     "text": [
      "start_sample_index:80 end_sample_index:96\n",
      "Start scan puzzles of sample convex_hull-8-int-1-1543 (80-96)\n",
      "Start scan puzzles of sample convex_hull-7-int-2-6465 (81-96)\n",
      "Start scan puzzles of sample convex_hull-7-int-2-6545 (82-96)\n",
      "Start scan puzzles of sample convex_hull-6-int-3-2632 (83-96)\n",
      "Start scan puzzles of sample convex_hull-6-int-3-366 (84-96)\n",
      "Start scan puzzles of sample convex_hull-6-int-3-834 (85-96)\n",
      "Start scan puzzles of sample convex_hull-5-int-4-6523 (86-96)\n",
      "Start scan puzzles of sample convex_hull-5-int-4-9148 (87-96)\n",
      "Start scan puzzles of sample convex_hull-4-int-5-5185 (88-96)\n",
      "Start scan puzzles of sample convex_hull-4-int-5-90 (89-96)\n",
      "Start scan puzzles of sample sample_range-2000-convex_hull-7-int-8-9562 (90-96)\n",
      "Start scan puzzles of sample sample_range-2000-convex_hull-8-int-12-4364 (91-96)\n",
      "Start scan puzzles of sample sample_range-2000-convex_hull-5-int-15-693 (92-96)\n",
      "Start scan puzzles of sample sample_range-10000-convex_hull-9-int-16-6893 (93-96)\n",
      "Start scan puzzles of sample sample_range-10000-convex_hull-9-int-21-8072 (94-96)\n"
     ]
    }
   ],
   "source": [
    "''''Run only This'''\n",
    "start_sample_index = 80\n",
    "end_sample_index = 96\n",
    "print(f\"start_sample_index:{start_sample_index} end_sample_index:{end_sample_index}\")\n",
    "for sample_index,next_sample_path in enumerate(samples[start_sample_index:end_sample_index]):\n",
    "    name = next_sample_path.split(\"\\\\\")[-1]\n",
    "    print(f\"Start scan puzzles of sample {name} ({start_sample_index+sample_index}-{end_sample_index})\")\n",
    "    abs_path = f\"C:\\\\Users\\\\yaniv\\\\Desktop\\\\MSCBenGurion\\\\iCVL\\\\rgons\\\\data\\\\sampled_points\\\\\"# forgive me for the absolute path\n",
    "    df_sample_origin = pd.read_csv(abs_path+str(name + \".csv\"))\n",
    "    df_sample_origin = df_sample_origin.set_index([\"x\",\"y\"])\n",
    "\n",
    "    for puzzle_deg_path in glob.glob(next_sample_path + \"\\\\Degree\\\\*.csv\"):\n",
    "        # print(puzzle_deg_path)\n",
    "        df_puzzle_degree = pd.read_csv(puzzle_deg_path)\n",
    "        df_puzzle_degree = df_puzzle_degree.set_index([\"x\",\"y\"])\n",
    "        df_puzzle_degree = df_puzzle_degree.join(df_sample_origin[df_sample_origin[\"role\"]!=\"frame\"],on=[\"x\",\"y\"]).reset_index()\n",
    "        df_puzzle_degree.to_csv(puzzle_deg_path,index=False)\n"
   ]
  },
  {
   "cell_type": "code",
   "execution_count": null,
   "metadata": {},
   "outputs": [],
   "source": []
  },
  {
   "cell_type": "markdown",
   "metadata": {},
   "source": []
  }
 ],
 "metadata": {
  "kernelspec": {
   "display_name": "Python 3.7.0 ('.venv': venv)",
   "language": "python",
   "name": "python3"
  },
  "language_info": {
   "codemirror_mode": {
    "name": "ipython",
    "version": 3
   },
   "file_extension": ".py",
   "mimetype": "text/x-python",
   "name": "python",
   "nbconvert_exporter": "python",
   "pygments_lexer": "ipython3",
   "version": "3.7.0"
  },
  "orig_nbformat": 4,
  "vscode": {
   "interpreter": {
    "hash": "e68634607eda34f49278e58a2a01c39877cf05dc864956f04498852e14ed5133"
   }
  }
 },
 "nbformat": 4,
 "nbformat_minor": 2
}
