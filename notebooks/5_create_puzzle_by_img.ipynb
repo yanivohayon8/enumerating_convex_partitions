{
 "cells": [
  {
   "cell_type": "code",
   "execution_count": 1,
   "metadata": {},
   "outputs": [],
   "source": [
    "import sys\n",
    "import os\n",
    "\n",
    "# from src.puzzle_creators import Direction\n",
    "\n",
    "SCRIPT_DIR = os.path.dirname(os.path.abspath(os.getcwd()+\"/notebooks\"))\n",
    "sys.path.append(os.path.dirname(SCRIPT_DIR))"
   ]
  },
  {
   "cell_type": "code",
   "execution_count": 2,
   "metadata": {},
   "outputs": [],
   "source": [
    "import pandas as pd \n",
    "import matplotlib.pyplot as plt\n",
    "import numpy as np\n",
    "import glob\n",
    "from pathlib import Path\n",
    "from PIL import Image\n",
    "# from src.notebooks_utils.sampler import sample_points\n",
    "from notebooks.notebooks_utils.sampler import sample_points\n",
    "from src.puzzle_creators.sampler import write_sampling\n",
    "from src.puzzle_creators.utils.puzzle_obj import Board\n",
    "from src.puzzle_creators.utils.creator import Creator"
   ]
  },
  {
   "cell_type": "code",
   "execution_count": 3,
   "metadata": {},
   "outputs": [],
   "source": [
    "notebook_files = os.path.join(Path().resolve().parent,\"data\",\"notebooks\",\"5_create_puzzle_by_img\")\n",
    "images_paths = glob.glob(f\"{notebook_files}\\\\images\\\\*[!xlsx]\")\n",
    "images_names = [img.split(\"\\\\\")[-1].split(\".\")[0] for img in images_paths]"
   ]
  },
  {
   "cell_type": "code",
   "execution_count": 11,
   "metadata": {},
   "outputs": [
    {
     "name": "stderr",
     "output_type": "stream",
     "text": [
      "c:\\Users\\yaniv\\Desktop\\MSCBenGurion\\iCVL\\rgons\\src\\notebooks_utils\\sampler.py:17: ShapelyDeprecationWarning: Iteration over multi-part geometries is deprecated and will be removed in Shapely 2.0. Use the `geoms` property to access the constituent parts of a multi-part geometry.\n",
      "  interior_points = [point for point in sampled_points if not convex_hull.touches(point)]\n",
      "c:\\Users\\yaniv\\Desktop\\MSCBenGurion\\iCVL\\rgons\\src\\notebooks_utils\\sampler.py:20: ShapelyDeprecationWarning: __len__ for multi-part geometries is deprecated and will be removed in Shapely 2.0. Check the length of the `geoms` property instead to get the  number of parts of a multi-part geometry.\n",
      "  sample_name = f\"convex_hull-{len(convex_hull_points)}-int-{len(interior_points)}-{rnd_int}\"\n",
      "c:\\Users\\yaniv\\Desktop\\MSCBenGurion\\iCVL\\rgons\\src\\puzzle_creators\\sampler.py:47: ShapelyDeprecationWarning: Iteration over multi-part geometries is deprecated and will be removed in Shapely 2.0. Use the `geoms` property to access the constituent parts of a multi-part geometry.\n",
      "  for p in frame_anchor_points:\n",
      "c:\\Users\\yaniv\\Desktop\\MSCBenGurion\\iCVL\\rgons\\src\\puzzle_creators\\sampler.py:52: ShapelyDeprecationWarning: Iteration over multi-part geometries is deprecated and will be removed in Shapely 2.0. Use the `geoms` property to access the constituent parts of a multi-part geometry.\n",
      "  for p in frame_points:\n"
     ]
    }
   ],
   "source": [
    "'''Create a folder for each image'''\n",
    "# img_sizes = []\n",
    "samples_paths = []\n",
    "for name_,path_ in zip(images_names,images_paths):\n",
    "    img_folder = os.path.join(notebook_files,name_)\n",
    "    os.makedirs(img_folder)\n",
    "    \n",
    "    # os.makedirs(os.path.join(folder,\"samples\"))\n",
    "    # os.makedirs(os.path.join(folder,\"clean_puzzles\"))\n",
    "    im = Image.open(path_)\n",
    "    width,height = im.size\n",
    "    # img_sizes.append((width,height))\n",
    "    im.close()\n",
    "\n",
    "    for n_points in [7,10]:\n",
    "        sample_name, interior_points, convex_hull_points = sample_points(width,height,n_points)\n",
    "        sample_dir = os.path.join(img_folder,sample_name)\n",
    "        samples_paths.append(f\"{sample_dir}\")\n",
    "        os.makedirs(sample_dir)\n",
    "        write_sampling(f\"{sample_dir}\\\\sample.csv\",interior_points,convex_hull_points,convex_hull_points)\n",
    "        os.makedirs(os.path.join(sample_dir,\"clean_puzzles\",\"results\"))\n",
    "        df_frame = pd.read_csv(f\"{sample_dir}\\\\sample.csv\")\n",
    "        df_frame = df_frame[df_frame[\"role\"]==\"frame\"]\n",
    "        df_frame = df_frame.drop([\"role\"],axis=1)\n",
    "        df_frame[\"piece\"] = [0] * len(df_frame)\n",
    "        df_frame.to_csv(f\"{sample_dir}\\\\frame.csv\",index=False)\n",
    "        \n",
    "\n"
   ]
  },
  {
   "cell_type": "code",
   "execution_count": 12,
   "metadata": {},
   "outputs": [
    {
     "name": "stdout",
     "output_type": "stream",
     "text": [
      "Start to create puzzles for convex_hull-5-int-2-1331(1-8)\n",
      "Start to create puzzles for convex_hull-5-int-5-9709(2-8)\n",
      "Start to create puzzles for convex_hull-5-int-2-1481(3-8)\n",
      "Start to create puzzles for convex_hull-5-int-5-6023(4-8)\n",
      "Start to create puzzles for convex_hull-6-int-1-3368(5-8)\n",
      "Start to create puzzles for convex_hull-6-int-4-9995(6-8)\n",
      "Start to create puzzles for convex_hull-5-int-2-3956(7-8)\n",
      "Start to create puzzles for convex_hull-5-int-5-3776(8-8)\n"
     ]
    }
   ],
   "source": [
    "'''Create The puzzles'''\n",
    "for i,sample in enumerate(samples_paths):\n",
    "    print(\"Start to create puzzles for \" + sample.split(\"\\\\\")[-1] + f\"({i+1}-{len(samples_paths)})\")\n",
    "    board = Board()\n",
    "    board.load_sampled_points(f\"{sample}\\\\sample.csv\")\n",
    "    creator = Creator(board,sample + \"\\\\clean_puzzles\",is_peleg_format=True)\n",
    "    creator.create_puzzles()\n",
    "    plt.close(\"all\")"
   ]
  },
  {
   "cell_type": "code",
   "execution_count": null,
   "metadata": {},
   "outputs": [],
   "source": []
  }
 ],
 "metadata": {
  "kernelspec": {
   "display_name": "Python 3.7.0 ('.venv': venv)",
   "language": "python",
   "name": "python3"
  },
  "language_info": {
   "codemirror_mode": {
    "name": "ipython",
    "version": 3
   },
   "file_extension": ".py",
   "mimetype": "text/x-python",
   "name": "python",
   "nbconvert_exporter": "python",
   "pygments_lexer": "ipython3",
   "version": "3.9.1"
  },
  "orig_nbformat": 4,
  "vscode": {
   "interpreter": {
    "hash": "e68634607eda34f49278e58a2a01c39877cf05dc864956f04498852e14ed5133"
   }
  }
 },
 "nbformat": 4,
 "nbformat_minor": 2
}
