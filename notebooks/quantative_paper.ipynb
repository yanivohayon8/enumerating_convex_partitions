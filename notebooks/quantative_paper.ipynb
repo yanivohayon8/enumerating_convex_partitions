{
 "cells": [
  {
   "cell_type": "code",
   "execution_count": 1,
   "metadata": {},
   "outputs": [],
   "source": [
    "from glob import glob\n",
    "import pandas as pd\n",
    "import os\n",
    "import re\n",
    "import scipy.special\n",
    "import matplotlib.pyplot as plt\n",
    "import numpy as np"
   ]
  },
  {
   "cell_type": "code",
   "execution_count": 2,
   "metadata": {},
   "outputs": [],
   "source": [
    "def load_directory(data_folder):\n",
    "    sampling_folders = glob(data_folder+\"/*\")\n",
    "    sampling_num_interiors = []\n",
    "    sampling_num_CH = []\n",
    "    sampling_num_puzzles = []\n",
    "    sampling_total_num_points = []\n",
    "    sampling_ids = []\n",
    "\n",
    "    for folder in  sampling_folders:\n",
    "        csv_paths = glob(os.path.join(folder,\"*.csv\"))\n",
    "        count_puzzles = 0\n",
    "        folder_puzzles_paths = []\n",
    "        is_metdata_found = False\n",
    "\n",
    "        num_interior = None\n",
    "        num_CH = None\n",
    "\n",
    "        for csv_path in csv_paths:\n",
    "            csv_name = os.path.basename(csv_path)\n",
    "\n",
    "            # Because the first kernel has always tiling, the metadata always starts with a letter \n",
    "            # There should be only one, if there many, take the latest (the variables num_interior and num_CH are overrided)\n",
    "            if re.match(\"^[a-zA-Z]+.*\",csv_name) and not csv_name.startswith(\"s_\"):\n",
    "                is_metdata_found = True\n",
    "                df_metadata = pd.read_csv(csv_path)\n",
    "                counts_roles = df_metadata[\"role\"].value_counts()\n",
    "                try:\n",
    "                    num_interior = counts_roles[\"interior\"]\n",
    "                    # sampling_num_interiors.append()\n",
    "                except KeyError:\n",
    "                    num_interior = 0\n",
    "                    # sampling_num_interiors.append(0)\n",
    "                \n",
    "                num_CH = counts_roles[\"frame\"]\n",
    "                # sampling_num_CH.append(counts_roles[\"frame\"])\n",
    "            else:\n",
    "                count_puzzles+=1\n",
    "        \n",
    "\n",
    "        if not is_metdata_found:\n",
    "            raise Exception(f\"Cannot find the sampling metadata csv of {folder}\")\n",
    "        \n",
    "        sampling_num_interiors.append(num_interior)\n",
    "        sampling_num_CH.append(num_CH)\n",
    "\n",
    "        sampling_num_puzzles.append(count_puzzles)\n",
    "        containing_dir = os.path.basename(folder)\n",
    "        sampling_ids.append(containing_dir)\n",
    "\n",
    "\n",
    "\n",
    "    df_all_samples = pd.DataFrame({\n",
    "        \"id\": sampling_ids,\n",
    "        \"num_interior\":sampling_num_interiors,\n",
    "        \"num_CH\": sampling_num_CH,\n",
    "        \"num_puzzles\":sampling_num_puzzles\n",
    "    })\n",
    "\n",
    "    df_all_samples[\"num_total_points\"] = df_all_samples[\"num_interior\"] + df_all_samples[\"num_CH\"]\n",
    "\n",
    "    # A sampling must create a puzzle, remove all the sampling that were failed\n",
    "    df_all_samples.drop(df_all_samples[df_all_samples[\"num_puzzles\"] == 0].index, inplace=True)\n",
    "\n",
    "    return df_all_samples"
   ]
  },
  {
   "cell_type": "markdown",
   "metadata": {},
   "source": [
    "# Panel A"
   ]
  },
  {
   "cell_type": "code",
   "execution_count": null,
   "metadata": {},
   "outputs": [
    {
     "name": "stdout",
     "output_type": "stream",
     "text": [
      "80\n"
     ]
    },
    {
     "data": {
      "text/html": [
       "<div>\n",
       "<style scoped>\n",
       "    .dataframe tbody tr th:only-of-type {\n",
       "        vertical-align: middle;\n",
       "    }\n",
       "\n",
       "    .dataframe tbody tr th {\n",
       "        vertical-align: top;\n",
       "    }\n",
       "\n",
       "    .dataframe thead th {\n",
       "        text-align: right;\n",
       "    }\n",
       "</style>\n",
       "<table border=\"1\" class=\"dataframe\">\n",
       "  <thead>\n",
       "    <tr style=\"text-align: right;\">\n",
       "      <th></th>\n",
       "      <th>id</th>\n",
       "      <th>num_interior</th>\n",
       "      <th>num_CH</th>\n",
       "      <th>num_puzzles</th>\n",
       "      <th>num_total_points</th>\n",
       "    </tr>\n",
       "  </thead>\n",
       "  <tbody>\n",
       "    <tr>\n",
       "      <th>0</th>\n",
       "      <td>2024-12-03 00-56-36+806782</td>\n",
       "      <td>0</td>\n",
       "      <td>3</td>\n",
       "      <td>1</td>\n",
       "      <td>3</td>\n",
       "    </tr>\n",
       "    <tr>\n",
       "      <th>1</th>\n",
       "      <td>2024-12-03 00-56-36+843929</td>\n",
       "      <td>0</td>\n",
       "      <td>3</td>\n",
       "      <td>1</td>\n",
       "      <td>3</td>\n",
       "    </tr>\n",
       "    <tr>\n",
       "      <th>2</th>\n",
       "      <td>2024-12-03 00-56-36+853050</td>\n",
       "      <td>0</td>\n",
       "      <td>3</td>\n",
       "      <td>1</td>\n",
       "      <td>3</td>\n",
       "    </tr>\n",
       "    <tr>\n",
       "      <th>3</th>\n",
       "      <td>2024-12-03 00-56-36+862943</td>\n",
       "      <td>0</td>\n",
       "      <td>3</td>\n",
       "      <td>1</td>\n",
       "      <td>3</td>\n",
       "    </tr>\n",
       "    <tr>\n",
       "      <th>4</th>\n",
       "      <td>2024-12-03 00-56-36+874933</td>\n",
       "      <td>0</td>\n",
       "      <td>3</td>\n",
       "      <td>1</td>\n",
       "      <td>3</td>\n",
       "    </tr>\n",
       "    <tr>\n",
       "      <th>5</th>\n",
       "      <td>2024-12-03 00-56-36+885934</td>\n",
       "      <td>0</td>\n",
       "      <td>3</td>\n",
       "      <td>1</td>\n",
       "      <td>3</td>\n",
       "    </tr>\n",
       "    <tr>\n",
       "      <th>6</th>\n",
       "      <td>2024-12-03 00-56-36+895932</td>\n",
       "      <td>0</td>\n",
       "      <td>3</td>\n",
       "      <td>1</td>\n",
       "      <td>3</td>\n",
       "    </tr>\n",
       "    <tr>\n",
       "      <th>7</th>\n",
       "      <td>2024-12-03 00-56-36+907167</td>\n",
       "      <td>0</td>\n",
       "      <td>3</td>\n",
       "      <td>1</td>\n",
       "      <td>3</td>\n",
       "    </tr>\n",
       "    <tr>\n",
       "      <th>8</th>\n",
       "      <td>2024-12-03 00-56-36+918734</td>\n",
       "      <td>0</td>\n",
       "      <td>3</td>\n",
       "      <td>1</td>\n",
       "      <td>3</td>\n",
       "    </tr>\n",
       "    <tr>\n",
       "      <th>9</th>\n",
       "      <td>2024-12-03 00-56-36+928729</td>\n",
       "      <td>0</td>\n",
       "      <td>3</td>\n",
       "      <td>1</td>\n",
       "      <td>3</td>\n",
       "    </tr>\n",
       "  </tbody>\n",
       "</table>\n",
       "</div>"
      ],
      "text/plain": [
       "                           id  num_interior  num_CH  num_puzzles  \\\n",
       "0  2024-12-03 00-56-36+806782             0       3            1   \n",
       "1  2024-12-03 00-56-36+843929             0       3            1   \n",
       "2  2024-12-03 00-56-36+853050             0       3            1   \n",
       "3  2024-12-03 00-56-36+862943             0       3            1   \n",
       "4  2024-12-03 00-56-36+874933             0       3            1   \n",
       "5  2024-12-03 00-56-36+885934             0       3            1   \n",
       "6  2024-12-03 00-56-36+895932             0       3            1   \n",
       "7  2024-12-03 00-56-36+907167             0       3            1   \n",
       "8  2024-12-03 00-56-36+918734             0       3            1   \n",
       "9  2024-12-03 00-56-36+928729             0       3            1   \n",
       "\n",
       "   num_total_points  \n",
       "0                 3  \n",
       "1                 3  \n",
       "2                 3  \n",
       "3                 3  \n",
       "4                 3  \n",
       "5                 3  \n",
       "6                 3  \n",
       "7                 3  \n",
       "8                 3  \n",
       "9                 3  "
      ]
     },
     "execution_count": 10,
     "metadata": {},
     "output_type": "execute_result"
    }
   ],
   "source": [
    "df = load_directory(f\"../data/paper/panelA\")\n",
    "print(len(df))\n",
    "df.head(10)"
   ]
  },
  {
   "cell_type": "code",
   "execution_count": 4,
   "metadata": {},
   "outputs": [
    {
     "data": {
      "text/html": [
       "<div>\n",
       "<style scoped>\n",
       "    .dataframe tbody tr th:only-of-type {\n",
       "        vertical-align: middle;\n",
       "    }\n",
       "\n",
       "    .dataframe tbody tr th {\n",
       "        vertical-align: top;\n",
       "    }\n",
       "\n",
       "    .dataframe thead tr th {\n",
       "        text-align: left;\n",
       "    }\n",
       "</style>\n",
       "<table border=\"1\" class=\"dataframe\">\n",
       "  <thead>\n",
       "    <tr>\n",
       "      <th></th>\n",
       "      <th>num_total_points</th>\n",
       "      <th colspan=\"5\" halign=\"left\">num_puzzles</th>\n",
       "    </tr>\n",
       "    <tr>\n",
       "      <th></th>\n",
       "      <th></th>\n",
       "      <th>mean</th>\n",
       "      <th>std</th>\n",
       "      <th>max</th>\n",
       "      <th>min</th>\n",
       "      <th>count</th>\n",
       "    </tr>\n",
       "  </thead>\n",
       "  <tbody>\n",
       "  </tbody>\n",
       "</table>\n",
       "</div>"
      ],
      "text/plain": [
       "Empty DataFrame\n",
       "Columns: [(num_total_points, ), (num_puzzles, mean), (num_puzzles, std), (num_puzzles, max), (num_puzzles, min), (num_puzzles, count)]\n",
       "Index: []"
      ]
     },
     "execution_count": 4,
     "metadata": {},
     "output_type": "execute_result"
    }
   ],
   "source": [
    "groupby_A = df.groupby([\"num_total_points\"],as_index=False).agg({\"num_puzzles\":[\"mean\",\"std\",\"max\",\"min\",\"count\"]})\n",
    "groupby_A.head(50)"
   ]
  },
  {
   "cell_type": "code",
   "execution_count": 5,
   "metadata": {},
   "outputs": [
    {
     "name": "stdout",
     "output_type": "stream",
     "text": [
      "means []\n",
      "std []\n",
      "max []\n",
      "min []\n"
     ]
    }
   ],
   "source": [
    "print(\"means \" + str(groupby_A.values[:,1].tolist()))\n",
    "print(\"std \" + str(groupby_A.values[:,2].tolist()))\n",
    "print(\"max \" + str(groupby_A.values[:,3].tolist()))\n",
    "print(\"min \" + str(groupby_A.values[:,4].tolist()))"
   ]
  },
  {
   "cell_type": "code",
   "execution_count": 6,
   "metadata": {},
   "outputs": [
    {
     "name": "stdout",
     "output_type": "stream",
     "text": [
      "0\n"
     ]
    },
    {
     "data": {
      "text/html": [
       "<div>\n",
       "<style scoped>\n",
       "    .dataframe tbody tr th:only-of-type {\n",
       "        vertical-align: middle;\n",
       "    }\n",
       "\n",
       "    .dataframe tbody tr th {\n",
       "        vertical-align: top;\n",
       "    }\n",
       "\n",
       "    .dataframe thead tr th {\n",
       "        text-align: left;\n",
       "    }\n",
       "</style>\n",
       "<table border=\"1\" class=\"dataframe\">\n",
       "  <thead>\n",
       "    <tr>\n",
       "      <th></th>\n",
       "      <th>num_total_points</th>\n",
       "      <th colspan=\"5\" halign=\"left\">num_puzzles</th>\n",
       "    </tr>\n",
       "    <tr>\n",
       "      <th></th>\n",
       "      <th></th>\n",
       "      <th>mean</th>\n",
       "      <th>std</th>\n",
       "      <th>max</th>\n",
       "      <th>min</th>\n",
       "      <th>count</th>\n",
       "    </tr>\n",
       "  </thead>\n",
       "  <tbody>\n",
       "  </tbody>\n",
       "</table>\n",
       "</div>"
      ],
      "text/plain": [
       "Empty DataFrame\n",
       "Columns: [(num_total_points, ), (num_puzzles, mean), (num_puzzles, std), (num_puzzles, max), (num_puzzles, min), (num_puzzles, count)]\n",
       "Index: []"
      ]
     },
     "execution_count": 6,
     "metadata": {},
     "output_type": "execute_result"
    }
   ],
   "source": [
    "df_B = load_directory(f\"../data/paper/panelB\")\n",
    "print(len(df_B))\n",
    "groupby_B = df_B.groupby([\"num_total_points\"],as_index=False).agg({\"num_puzzles\":[\"mean\",\"std\",\"max\",\"min\",\"count\"]})\n",
    "groupby_B.head(50)"
   ]
  },
  {
   "cell_type": "code",
   "execution_count": 7,
   "metadata": {},
   "outputs": [
    {
     "name": "stdout",
     "output_type": "stream",
     "text": [
      "means []\n",
      "std []\n",
      "max []\n",
      "min []\n"
     ]
    }
   ],
   "source": [
    "print(\"means \" + str(groupby_B.values[:,1].tolist()))\n",
    "print(\"std \" + str(groupby_B.values[:,2].tolist()))\n",
    "print(\"max \" + str(groupby_B.values[:,3].tolist()))\n",
    "print(\"min \" + str(groupby_B.values[:,4].tolist()))"
   ]
  },
  {
   "cell_type": "code",
   "execution_count": 8,
   "metadata": {},
   "outputs": [],
   "source": [
    "def binomial_choose(n,k):\n",
    "    return scipy.special.comb(n,k)\n",
    "\n",
    "def num_ways_noncrossing_diagonals(n,k):\n",
    "    return binomial_choose(n-3,k)*binomial_choose(n+k-1,k)/(k+1)\n",
    "\n",
    "def num_partitions_non_interior(n):\n",
    "    sum_ = 1 # without diagonals\n",
    "\n",
    "    # passing 1,..., n-3 diagonals\n",
    "    for k in range(1,n-2,1):\n",
    "        sum_ += num_ways_noncrossing_diagonals(n,k)\n",
    "    \n",
    "    return sum_\n",
    "\n",
    "assert num_partitions_non_interior(4) == 3 \n",
    "assert num_partitions_non_interior(5) == 11\n",
    "assert num_partitions_non_interior(6) == 45\n",
    "assert num_partitions_non_interior(7) == 197\n",
    "assert num_partitions_non_interior(8) == 903\n",
    "assert num_partitions_non_interior(9) == 4279\n",
    "assert num_partitions_non_interior(10) == 20793\n"
   ]
  },
  {
   "cell_type": "markdown",
   "metadata": {},
   "source": [
    "# Plotting Graphs together"
   ]
  },
  {
   "cell_type": "code",
   "execution_count": 9,
   "metadata": {},
   "outputs": [
    {
     "ename": "IndexError",
     "evalue": "index 0 is out of bounds for axis 0 with size 0",
     "output_type": "error",
     "traceback": [
      "\u001b[1;31m---------------------------------------------------------------------------\u001b[0m",
      "\u001b[1;31mIndexError\u001b[0m                                Traceback (most recent call last)",
      "Cell \u001b[1;32mIn[9], line 18\u001b[0m\n\u001b[0;32m     14\u001b[0m plt\u001b[38;5;241m.\u001b[39mfigure(figsize\u001b[38;5;241m=\u001b[39m(\u001b[38;5;241m4.8\u001b[39m,\u001b[38;5;241m3.6\u001b[39m))\n\u001b[0;32m     15\u001b[0m ax \u001b[38;5;241m=\u001b[39m plt\u001b[38;5;241m.\u001b[39msubplot()\n\u001b[1;32m---> 18\u001b[0m sampling_points_A \u001b[38;5;241m=\u001b[39m np\u001b[38;5;241m.\u001b[39mlinspace(\u001b[43mtotal_num_A\u001b[49m\u001b[43m[\u001b[49m\u001b[38;5;241;43m0\u001b[39;49m\u001b[43m]\u001b[49m,total_num_A[\u001b[38;5;241m-\u001b[39m\u001b[38;5;241m1\u001b[39m])\n\u001b[0;32m     19\u001b[0m c \u001b[38;5;241m=\u001b[39m  \u001b[38;5;241m4.7409\u001b[39m\n\u001b[0;32m     20\u001b[0m a \u001b[38;5;241m=\u001b[39m \u001b[38;5;241m0.0020\u001b[39m\n",
      "\u001b[1;31mIndexError\u001b[0m: index 0 is out of bounds for axis 0 with size 0"
     ]
    },
    {
     "data": {
      "image/png": "[encoded data removed]",
      "text/plain": [
       "<Figure size 480x360 with 1 Axes>"
      ]
     },
     "metadata": {},
     "output_type": "display_data"
    }
   ],
   "source": [
    "total_num_A = groupby_A.values[:,0]\n",
    "means_A = groupby_A.values[:,1]\n",
    "stds_A = groupby_A.values[:,2]\n",
    "max_A = groupby_A.values[:,3]\n",
    "min_A = groupby_A.values[:,4]\n",
    "\n",
    "\n",
    "total_num_h_p = groupby_B.values[:,0]\n",
    "means_h_p = groupby_B.values[:,1]\n",
    "stds_h_p = groupby_B.values[:,2]\n",
    "max_h_p = groupby_B.values[:,3]\n",
    "min_h_p = groupby_B.values[:,4]\n",
    "\n",
    "plt.figure(figsize=(4.8,3.6))\n",
    "ax = plt.subplot()\n",
    "\n",
    "\n",
    "sampling_points_A = np.linspace(total_num_A[0],total_num_A[-1])\n",
    "c =  4.7409\n",
    "a = 0.0020\n",
    "fitted_values_A = a*np.power(c,sampling_points_A)\n",
    "# Plot the exponential fit\n",
    "ax.plot(sampling_points_A, fitted_values_A, 'r-', label=f'y = {a}*{c}^|P|', linewidth=2)\n",
    "ax.plot(total_num_A,means_A,color=\"None\",marker=\"x\",markeredgecolor=\"black\")\n",
    "\n",
    "A_max_a = 0.0034\n",
    "A_max_c = 4.7082\n",
    "A_min_a = 0.0148 \n",
    "A_min_c = 3.3916\n",
    "fitted_values_A_max = A_max_a*np.power(A_max_c,sampling_points_A)\n",
    "fitted_values_A_min = A_min_a*np.power(A_min_c,sampling_points_A)\n",
    "ax.fill_between(sampling_points_A,fitted_values_A_min,fitted_values_A_max,color=\"r\",alpha=0.1)\n",
    "\n",
    "sampling_points_h_p = np.linspace(total_num_h_p[0],total_num_h_p[-1])\n",
    "c =  4.8480\n",
    "a = 0.0029\n",
    "fitted_values_h_p = a*np.power(c,sampling_points_h_p)\n",
    "# Plot the exponential fit\n",
    "ax.plot(sampling_points_h_p, fitted_values_h_p, 'b-', label=f'y = {a}*{c}^|P|', linewidth=2)\n",
    "ax.fill_between(sampling_points_h_p,fitted_values_h_p,fitted_values_h_p,color=\"b\",alpha=0.1)\n",
    "ax.plot(total_num_h_p,means_h_p,color=\"None\",marker=\"x\",markeredgecolor=\"black\")\n",
    "\n",
    "ax.set_xticks(np.arange(total_num_h_p[0],total_num_h_p[-1]+1))\n",
    "ax.set_xlabel(\"|P|\",fontweight=\"bold\")\n",
    "ax.set_ylabel(\"#partitions\",fontweight=\"bold\")\n",
    "\n",
    "ax.legend(loc=\"upper left\")\n",
    "\n",
    "plt.show()"
   ]
  },
  {
   "cell_type": "markdown",
   "metadata": {},
   "source": [
    "# Panel B*"
   ]
  },
  {
   "cell_type": "code",
   "execution_count": null,
   "metadata": {},
   "outputs": [
    {
     "name": "stdout",
     "output_type": "stream",
     "text": [
      "50\n"
     ]
    },
    {
     "data": {
      "text/html": [
       "<div>\n",
       "<style scoped>\n",
       "    .dataframe tbody tr th:only-of-type {\n",
       "        vertical-align: middle;\n",
       "    }\n",
       "\n",
       "    .dataframe tbody tr th {\n",
       "        vertical-align: top;\n",
       "    }\n",
       "\n",
       "    .dataframe thead tr th {\n",
       "        text-align: left;\n",
       "    }\n",
       "</style>\n",
       "<table border=\"1\" class=\"dataframe\">\n",
       "  <thead>\n",
       "    <tr>\n",
       "      <th></th>\n",
       "      <th>num_interior</th>\n",
       "      <th>num_CH</th>\n",
       "      <th colspan=\"5\" halign=\"left\">num_puzzles</th>\n",
       "    </tr>\n",
       "    <tr>\n",
       "      <th></th>\n",
       "      <th></th>\n",
       "      <th></th>\n",
       "      <th>mean</th>\n",
       "      <th>std</th>\n",
       "      <th>max</th>\n",
       "      <th>min</th>\n",
       "      <th>count</th>\n",
       "    </tr>\n",
       "  </thead>\n",
       "  <tbody>\n",
       "    <tr>\n",
       "      <th>0</th>\n",
       "      <td>0</td>\n",
       "      <td>7</td>\n",
       "      <td>197.0</td>\n",
       "      <td>0.000000</td>\n",
       "      <td>197</td>\n",
       "      <td>197</td>\n",
       "      <td>10</td>\n",
       "    </tr>\n",
       "    <tr>\n",
       "      <th>1</th>\n",
       "      <td>1</td>\n",
       "      <td>6</td>\n",
       "      <td>131.0</td>\n",
       "      <td>19.595918</td>\n",
       "      <td>155</td>\n",
       "      <td>107</td>\n",
       "      <td>10</td>\n",
       "    </tr>\n",
       "    <tr>\n",
       "      <th>2</th>\n",
       "      <td>2</td>\n",
       "      <td>5</td>\n",
       "      <td>94.6</td>\n",
       "      <td>23.490897</td>\n",
       "      <td>125</td>\n",
       "      <td>61</td>\n",
       "      <td>10</td>\n",
       "    </tr>\n",
       "    <tr>\n",
       "      <th>3</th>\n",
       "      <td>3</td>\n",
       "      <td>4</td>\n",
       "      <td>75.8</td>\n",
       "      <td>25.424398</td>\n",
       "      <td>123</td>\n",
       "      <td>35</td>\n",
       "      <td>10</td>\n",
       "    </tr>\n",
       "    <tr>\n",
       "      <th>4</th>\n",
       "      <td>4</td>\n",
       "      <td>3</td>\n",
       "      <td>63.4</td>\n",
       "      <td>23.566455</td>\n",
       "      <td>117</td>\n",
       "      <td>29</td>\n",
       "      <td>10</td>\n",
       "    </tr>\n",
       "  </tbody>\n",
       "</table>\n",
       "</div>"
      ],
      "text/plain": [
       "  num_interior num_CH num_puzzles                           \n",
       "                             mean        std  max  min count\n",
       "0            0      7       197.0   0.000000  197  197    10\n",
       "1            1      6       131.0  19.595918  155  107    10\n",
       "2            2      5        94.6  23.490897  125   61    10\n",
       "3            3      4        75.8  25.424398  123   35    10\n",
       "4            4      3        63.4  23.566455  117   29    10"
      ]
     },
     "execution_count": 18,
     "metadata": {},
     "output_type": "execute_result"
    }
   ],
   "source": [
    "df_B_plus = load_directory(f\"../data/paper/panelB_+\")\n",
    "print(len(df_B_plus))\n",
    "groupby_B_plus = df_B_plus.groupby([\"num_interior\",\"num_CH\"],as_index=False).agg({\"num_puzzles\":[\"mean\",\"std\",\"max\",\"min\",\"count\"]})\n",
    "groupby_B_plus.head(50)"
   ]
  },
  {
   "cell_type": "code",
   "execution_count": null,
   "metadata": {},
   "outputs": [
    {
     "name": "stdout",
     "output_type": "stream",
     "text": [
      "means [197.0, 131.0, 94.6, 75.8, 63.4]\n",
      "std [0.0, 19.595917942265423, 23.49089658191492, 25.424397731313125, 23.56645450163808]\n"
     ]
    }
   ],
   "source": [
    "print(\"means \" + str(groupby_B_plus.values[:,2].tolist()))\n",
    "print(\"std \" + str(groupby_B_plus.values[:,3].tolist()))"
   ]
  },
  {
   "cell_type": "code",
   "execution_count": null,
   "metadata": {},
   "outputs": [
    {
     "data": {
      "image/png": "[encoded data removed]",
      "text/plain": [
       "<Figure size 1000x450 with 1 Axes>"
      ]
     },
     "metadata": {},
     "output_type": "display_data"
    }
   ],
   "source": [
    "import numpy as np\n",
    "import matplotlib.pyplot as plt\n",
    "\n",
    "# Given values\n",
    "means = np.array([197.0, 131.0, 94.6, 75.8, 63.4])\n",
    "stds = np.array([0.0, 19.595917942265423, 23.49089658191492, 25.424397731313125, 23.56645450163808])\n",
    "\n",
    "num_of_ch = np.arange(len(means)) #+ 3\n",
    "\n",
    "# Set figure size (width, height in inches)\n",
    "plt.figure(figsize=(10,10*9/20))\n",
    "\n",
    "# Plot the original data with error bars\n",
    "ax = plt.subplot()\n",
    "\n",
    "ax.errorbar(range(len(means)),means,yerr=stds,marker=\"x\",color=\"None\",markeredgecolor=\"black\",ecolor=\"black\")\n",
    "\n",
    "# Evaluate the fitted function at the x values\n",
    "start_sampling = 0\n",
    "end_sampling = 4\n",
    "sampling_points = np.linspace(start_sampling,end_sampling)\n",
    "a = 27.7675\n",
    "b = 1485.4205\n",
    "c = -3.1632\n",
    "k = 1.8857\n",
    "\n",
    "fitted_values = a+b*np.power(sampling_points-c,-k)\n",
    "ax.plot(sampling_points, fitted_values, 'g-', label=f'y = {a:.2f} + {b:.2f} * (|I(P)|+{-c:.2f})^(-{k:.2f})', linewidth=2)\n",
    "\n",
    "# Set labels with bold font\n",
    "ax.set_xlabel(\"|I(P)|\", fontweight='bold')\n",
    "ax.set_ylabel(\"#partitions\", fontweight='bold')\n",
    "ax.set_xticks(np.arange(len(means)))\n",
    "# ax.set_xlim((3,9))\n",
    "ax.set_ylim((0,220))\n",
    "\n",
    "\n",
    "# Add a legend\n",
    "ax.legend(loc=\"upper right\")\n",
    "\n",
    "# Show the plot\n",
    "plt.show()\n"
   ]
  },
  {
   "cell_type": "code",
   "execution_count": null,
   "metadata": {},
   "outputs": [],
   "source": []
  }
 ],
 "metadata": {
  "kernelspec": {
   "display_name": ".venv",
   "language": "python",
   "name": "python3"
  },
  "language_info": {
   "codemirror_mode": {
    "name": "ipython",
    "version": 3
   },
   "file_extension": ".py",
   "mimetype": "text/x-python",
   "name": "python",
   "nbconvert_exporter": "python",
   "pygments_lexer": "ipython3",
   "version": "3.9.1rc1"
  }
 },
 "nbformat": 4,
 "nbformat_minor": 2
}
